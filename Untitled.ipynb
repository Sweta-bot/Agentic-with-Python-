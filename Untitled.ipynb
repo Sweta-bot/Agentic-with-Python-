{
 "cells": [
  {
   "cell_type": "code",
   "execution_count": 2,
   "id": "372c01cf-fb82-4c35-9fff-29371bd7e55e",
   "metadata": {},
   "outputs": [
    {
     "name": "stdout",
     "output_type": "stream",
     "text": [
      "shweta python file \n"
     ]
    }
   ],
   "source": [
    "print(\"shweta python file \")"
   ]
  },
  {
   "cell_type": "code",
   "execution_count": 8,
   "id": "ff101944-2450-4327-b130-1f173ead142b",
   "metadata": {},
   "outputs": [],
   "source": [
    "s1=\"hellp\""
   ]
  },
  {
   "cell_type": "code",
   "execution_count": 10,
   "id": "11686a8c-5eb8-4f03-90ce-958184b865ec",
   "metadata": {},
   "outputs": [
    {
     "data": {
      "text/plain": [
       "'hellp'"
      ]
     },
     "execution_count": 10,
     "metadata": {},
     "output_type": "execute_result"
    }
   ],
   "source": [
    "s1\n"
   ]
  },
  {
   "cell_type": "code",
   "execution_count": 12,
   "id": "41665ae0-746f-4921-b80f-d881d930bc23",
   "metadata": {},
   "outputs": [
    {
     "ename": "SyntaxError",
     "evalue": "invalid syntax (3864411457.py, line 1)",
     "output_type": "error",
     "traceback": [
      "\u001b[0;36m  Cell \u001b[0;32mIn[12], line 1\u001b[0;36m\u001b[0m\n\u001b[0;31m    s1=[:]\u001b[0m\n\u001b[0m        ^\u001b[0m\n\u001b[0;31mSyntaxError\u001b[0m\u001b[0;31m:\u001b[0m invalid syntax\n"
     ]
    }
   ],
   "source": [
    "s1=[:]\n"
   ]
  },
  {
   "cell_type": "markdown",
   "id": "49c98795-ff00-4167-8fd5-d92fb319f7a2",
   "metadata": {},
   "source": [
    "#python data types \n",
    "\n"
   ]
  },
  {
   "cell_type": "code",
   "execution_count": 16,
   "id": "0036a55b-c03b-4007-83a1-4e6c7b5ddf2e",
   "metadata": {},
   "outputs": [],
   "source": [
    "f=120.65\n"
   ]
  },
  {
   "cell_type": "code",
   "execution_count": 18,
   "id": "44d0bbe6-1977-4f98-86e0-da818d9ec0eb",
   "metadata": {},
   "outputs": [
    {
     "data": {
      "text/plain": [
       "float"
      ]
     },
     "execution_count": 18,
     "metadata": {},
     "output_type": "execute_result"
    }
   ],
   "source": [
    "type(f)\n"
   ]
  },
  {
   "cell_type": "code",
   "execution_count": null,
   "id": "b9d0fc22-ab65-4ab9-b8b6-f2fa80e84200",
   "metadata": {},
   "outputs": [],
   "source": [
    "c=10 +20J\n"
   ]
  }
 ],
 "metadata": {
  "kernelspec": {
   "display_name": "Python [conda env:base] *",
   "language": "python",
   "name": "conda-base-py"
  },
  "language_info": {
   "codemirror_mode": {
    "name": "ipython",
    "version": 3
   },
   "file_extension": ".py",
   "mimetype": "text/x-python",
   "name": "python",
   "nbconvert_exporter": "python",
   "pygments_lexer": "ipython3",
   "version": "3.12.7"
  }
 },
 "nbformat": 4,
 "nbformat_minor": 5
}
