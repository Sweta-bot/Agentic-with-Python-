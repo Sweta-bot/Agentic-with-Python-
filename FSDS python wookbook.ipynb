{
 "cells": [
  {
   "cell_type": "markdown",
   "id": "49c98795-ff00-4167-8fd5-d92fb319f7a2",
   "metadata": {},
   "source": [
    "# python workbook  \n"
   ]
  },
  {
   "cell_type": "code",
   "execution_count": 3,
   "id": "fdebd88d-9bf0-43da-be06-c8a675657632",
   "metadata": {},
   "outputs": [
    {
     "ename": "SyntaxError",
     "evalue": "invalid syntax (4023549770.py, line 1)",
     "output_type": "error",
     "traceback": [
      "\u001b[0;36m  Cell \u001b[0;32mIn[3], line 1\u001b[0;36m\u001b[0m\n\u001b[0;31m    if =67\u001b[0m\n\u001b[0m       ^\u001b[0m\n\u001b[0;31mSyntaxError\u001b[0m\u001b[0;31m:\u001b[0m invalid syntax\n"
     ]
    }
   ],
   "source": [
    "if =67 #coz if a kwyword "
   ]
  },
  {
   "cell_type": "code",
   "execution_count": 9,
   "id": "0d092f83-6fe7-4be0-8904-3bdd25ed587a",
   "metadata": {},
   "outputs": [
    {
     "data": {
      "text/plain": [
       "35"
      ]
     },
     "execution_count": 9,
     "metadata": {},
     "output_type": "execute_result"
    }
   ],
   "source": [
    "import keyword\n",
    "(keyword.kwlist)"
   ]
  },
  {
   "cell_type": "code",
   "execution_count": 11,
   "id": "e5f9801f-ee86-435c-8a5e-17e467c0b107",
   "metadata": {},
   "outputs": [
    {
     "data": {
      "text/plain": [
       "35"
      ]
     },
     "execution_count": 11,
     "metadata": {},
     "output_type": "execute_result"
    }
   ],
   "source": [
    "len(keyword.kwlist)"
   ]
  },
  {
   "cell_type": "code",
   "execution_count": 13,
   "id": "1fd0c87f-6d4a-4143-918e-8458b1ca3540",
   "metadata": {},
   "outputs": [],
   "source": [
    "nit_=56"
   ]
  },
  {
   "cell_type": "code",
   "execution_count": 15,
   "id": "58bbc84a-ff33-4685-95c8-80b21f16fd4e",
   "metadata": {},
   "outputs": [
    {
     "data": {
      "text/plain": [
       "56"
      ]
     },
     "execution_count": 15,
     "metadata": {},
     "output_type": "execute_result"
    }
   ],
   "source": [
    "nit_"
   ]
  },
  {
   "cell_type": "code",
   "execution_count": 17,
   "id": "37a1320a-ad6e-4efe-b47c-dcd574a3a67a",
   "metadata": {},
   "outputs": [],
   "source": [
    "i,f,s,b,c=34,3.4,\"nit\",True,1+1j"
   ]
  },
  {
   "cell_type": "code",
   "execution_count": 19,
   "id": "3bf17d97-e5a0-40bf-90f8-6269fd383a3b",
   "metadata": {},
   "outputs": [
    {
     "data": {
      "text/plain": [
       "3.4"
      ]
     },
     "execution_count": 19,
     "metadata": {},
     "output_type": "execute_result"
    }
   ],
   "source": [
    "f"
   ]
  },
  {
   "cell_type": "code",
   "execution_count": 21,
   "id": "a0cbdaeb-353a-4eec-9ee1-3aac5711dbe3",
   "metadata": {},
   "outputs": [
    {
     "data": {
      "text/plain": [
       "'nit'"
      ]
     },
     "execution_count": 21,
     "metadata": {},
     "output_type": "execute_result"
    }
   ],
   "source": [
    "s"
   ]
  },
  {
   "cell_type": "code",
   "execution_count": 27,
   "id": "a18aa433-e03e-465a-a786-64da5d24f2fd",
   "metadata": {},
   "outputs": [
    {
     "name": "stdout",
     "output_type": "stream",
     "text": [
      "<class 'int'>\n"
     ]
    }
   ],
   "source": [
    "print(type(i))\n",
    "          "
   ]
  },
  {
   "cell_type": "code",
   "execution_count": null,
   "id": "8ec64a03-7711-4d17-9c7f-0eb7c1d4949b",
   "metadata": {},
   "outputs": [],
   "source": [
    "#the class mentioned here is oops which we will discuss later \n",
    "      "
   ]
  },
  {
   "cell_type": "markdown",
   "id": "0bc97e19-408c-47e4-903a-5766be6e4eec",
   "metadata": {},
   "source": [
    "# python typecasting "
   ]
  },
  {
   "cell_type": "code",
   "execution_count": 32,
   "id": "3cfe1219-d036-45df-8fc3-681eb258a6b3",
   "metadata": {},
   "outputs": [],
   "source": [
    "# family(1); here in fuctions only one arg mentioned "
   ]
  },
  {
   "cell_type": "code",
   "execution_count": 36,
   "id": "206be53b-254b-4a89-8493-0b9caac57600",
   "metadata": {},
   "outputs": [
    {
     "data": {
      "text/plain": [
       "3"
      ]
     },
     "execution_count": 36,
     "metadata": {},
     "output_type": "execute_result"
    }
   ],
   "source": [
    "int(3.4) #2 arg mentioned float arg to int is posible \n"
   ]
  },
  {
   "cell_type": "code",
   "execution_count": 38,
   "id": "3cb4065e-a8a0-481c-bd2b-6c0d54eab471",
   "metadata": {},
   "outputs": [
    {
     "data": {
      "text/plain": [
       "1"
      ]
     },
     "execution_count": 38,
     "metadata": {},
     "output_type": "execute_result"
    }
   ],
   "source": [
    "int(True)"
   ]
  },
  {
   "cell_type": "code",
   "execution_count": 40,
   "id": "b220cef8-d875-423d-b786-ac7a66c3a548",
   "metadata": {},
   "outputs": [
    {
     "data": {
      "text/plain": [
       "2"
      ]
     },
     "execution_count": 40,
     "metadata": {},
     "output_type": "execute_result"
    }
   ],
   "source": [
    "True+True+False"
   ]
  },
  {
   "cell_type": "code",
   "execution_count": 42,
   "id": "f76d9351-3b0e-4c67-b173-73d7a33c98ba",
   "metadata": {},
   "outputs": [],
   "source": [
    "#type casting is a method where we can "
   ]
  },
  {
   "cell_type": "code",
   "execution_count": 44,
   "id": "57010fe7-721c-41f1-8b1f-01cb0a80ddce",
   "metadata": {},
   "outputs": [
    {
     "ename": "TypeError",
     "evalue": "int() argument must be a string, a bytes-like object or a real number, not 'complex'",
     "output_type": "error",
     "traceback": [
      "\u001b[0;31m---------------------------------------------------------------------------\u001b[0m",
      "\u001b[0;31mTypeError\u001b[0m                                 Traceback (most recent call last)",
      "Cell \u001b[0;32mIn[44], line 1\u001b[0m\n\u001b[0;32m----> 1\u001b[0m \u001b[38;5;28mint\u001b[39m(\u001b[38;5;241m1\u001b[39m\u001b[38;5;241m+\u001b[39m\u001b[38;5;241m2\u001b[39mj)\n",
      "\u001b[0;31mTypeError\u001b[0m: int() argument must be a string, a bytes-like object or a real number, not 'complex'"
     ]
    }
   ],
   "source": [
    "int(1+2j)"
   ]
  },
  {
   "cell_type": "code",
   "execution_count": 46,
   "id": "991f6d3f-022a-4f01-9f15-6a3d681b0a9f",
   "metadata": {},
   "outputs": [
    {
     "data": {
      "text/plain": [
       "10"
      ]
     },
     "execution_count": 46,
     "metadata": {},
     "output_type": "execute_result"
    }
   ],
   "source": [
    "int(\"10\")"
   ]
  },
  {
   "cell_type": "code",
   "execution_count": 48,
   "id": "8cfb5e3f-3764-4a43-96fa-c9f9dd114cb3",
   "metadata": {},
   "outputs": [
    {
     "ename": "ValueError",
     "evalue": "invalid literal for int() with base 10: 'float'",
     "output_type": "error",
     "traceback": [
      "\u001b[0;31m---------------------------------------------------------------------------\u001b[0m",
      "\u001b[0;31mValueError\u001b[0m                                Traceback (most recent call last)",
      "Cell \u001b[0;32mIn[48], line 1\u001b[0m\n\u001b[0;32m----> 1\u001b[0m \u001b[38;5;28mint\u001b[39m(\u001b[38;5;124m\"\u001b[39m\u001b[38;5;124mfloat\u001b[39m\u001b[38;5;124m\"\u001b[39m)\n",
      "\u001b[0;31mValueError\u001b[0m: invalid literal for int() with base 10: 'float'"
     ]
    }
   ],
   "source": [
    "int(\"float\")"
   ]
  },
  {
   "cell_type": "code",
   "execution_count": 50,
   "id": "aae1ce84-6f8d-4849-b3f1-ac52fa76e770",
   "metadata": {},
   "outputs": [
    {
     "data": {
      "text/plain": [
       "23.0"
      ]
     },
     "execution_count": 50,
     "metadata": {},
     "output_type": "execute_result"
    }
   ],
   "source": [
    "float(23)"
   ]
  },
  {
   "cell_type": "code",
   "execution_count": 52,
   "id": "48f09e86-6af7-4c05-ac0d-99c7844ba363",
   "metadata": {},
   "outputs": [
    {
     "data": {
      "text/plain": [
       "1.0"
      ]
     },
     "execution_count": 52,
     "metadata": {},
     "output_type": "execute_result"
    }
   ],
   "source": [
    "float(True)"
   ]
  },
  {
   "cell_type": "code",
   "execution_count": 54,
   "id": "7a7ca379-d661-4e8f-ac35-130e962b1a80",
   "metadata": {},
   "outputs": [
    {
     "data": {
      "text/plain": [
       "10.0"
      ]
     },
     "execution_count": 54,
     "metadata": {},
     "output_type": "execute_result"
    }
   ],
   "source": [
    "float(\"10\")"
   ]
  },
  {
   "cell_type": "code",
   "execution_count": 56,
   "id": "9a0c60a3-b60e-4d4c-8aa0-3160f7f81fca",
   "metadata": {},
   "outputs": [
    {
     "data": {
      "text/plain": [
       "10.0"
      ]
     },
     "execution_count": 56,
     "metadata": {},
     "output_type": "execute_result"
    }
   ],
   "source": [
    "float(10)"
   ]
  },
  {
   "cell_type": "code",
   "execution_count": 58,
   "id": "dd87e7d7-e963-4cc8-9044-d7110fcb40ac",
   "metadata": {},
   "outputs": [
    {
     "ename": "ValueError",
     "evalue": "could not convert string to float: 'ten'",
     "output_type": "error",
     "traceback": [
      "\u001b[0;31m---------------------------------------------------------------------------\u001b[0m",
      "\u001b[0;31mValueError\u001b[0m                                Traceback (most recent call last)",
      "Cell \u001b[0;32mIn[58], line 1\u001b[0m\n\u001b[0;32m----> 1\u001b[0m \u001b[38;5;28mfloat\u001b[39m(\u001b[38;5;124m\"\u001b[39m\u001b[38;5;124mten\u001b[39m\u001b[38;5;124m\"\u001b[39m)\n",
      "\u001b[0;31mValueError\u001b[0m: could not convert string to float: 'ten'"
     ]
    }
   ],
   "source": [
    "float(\"ten\")"
   ]
  },
  {
   "cell_type": "code",
   "execution_count": 60,
   "id": "29c93329-752d-42a4-980a-b7b441f0ca80",
   "metadata": {},
   "outputs": [
    {
     "data": {
      "text/plain": [
       "(10+0j)"
      ]
     },
     "execution_count": 60,
     "metadata": {},
     "output_type": "execute_result"
    }
   ],
   "source": [
    "complex(10)"
   ]
  },
  {
   "cell_type": "code",
   "execution_count": 62,
   "id": "a3e7abf0-c6e9-4530-9fc7-f0a5139fa78c",
   "metadata": {},
   "outputs": [],
   "source": [
    "#the complex data type str is here 10 is real part and the 0 is imagaginary part and the j is squre root of -1"
   ]
  },
  {
   "cell_type": "code",
   "execution_count": 64,
   "id": "c234e9a7-22af-49fa-b2f4-86b7f4f9f6e6",
   "metadata": {},
   "outputs": [
    {
     "data": {
      "text/plain": [
       "(10+34j)"
      ]
     },
     "execution_count": 64,
     "metadata": {},
     "output_type": "execute_result"
    }
   ],
   "source": [
    "complex(10,34)"
   ]
  },
  {
   "cell_type": "code",
   "execution_count": 66,
   "id": "3af7a3a1-9ed8-4073-b5ef-43a47e635e2d",
   "metadata": {},
   "outputs": [
    {
     "data": {
      "text/plain": [
       "(3.4+0j)"
      ]
     },
     "execution_count": 66,
     "metadata": {},
     "output_type": "execute_result"
    }
   ],
   "source": [
    "complex(3.4)"
   ]
  },
  {
   "cell_type": "code",
   "execution_count": 68,
   "id": "b5eacbed-ba98-4c88-87ca-151b359755a0",
   "metadata": {},
   "outputs": [
    {
     "data": {
      "text/plain": [
       "(10+0j)"
      ]
     },
     "execution_count": 68,
     "metadata": {},
     "output_type": "execute_result"
    }
   ],
   "source": [
    "complex(\"10\")"
   ]
  },
  {
   "cell_type": "code",
   "execution_count": 70,
   "id": "c1c8a05f-5664-4824-a064-f70a7c616409",
   "metadata": {},
   "outputs": [
    {
     "data": {
      "text/plain": [
       "(3.4+0j)"
      ]
     },
     "execution_count": 70,
     "metadata": {},
     "output_type": "execute_result"
    }
   ],
   "source": [
    "complex(3.4)"
   ]
  },
  {
   "cell_type": "code",
   "execution_count": 74,
   "id": "ac301071-477a-459d-b954-8a58efa60996",
   "metadata": {},
   "outputs": [
    {
     "ename": "TypeError",
     "evalue": "complex() takes at most 2 arguments (3 given)",
     "output_type": "error",
     "traceback": [
      "\u001b[0;31m---------------------------------------------------------------------------\u001b[0m",
      "\u001b[0;31mTypeError\u001b[0m                                 Traceback (most recent call last)",
      "Cell \u001b[0;32mIn[74], line 1\u001b[0m\n\u001b[0;32m----> 1\u001b[0m \u001b[38;5;28mprint\u001b[39m(\u001b[38;5;28mcomplex\u001b[39m(\u001b[38;5;241m3\u001b[39m,\u001b[38;5;241m4\u001b[39m,\u001b[38;5;241m34\u001b[39m))\n",
      "\u001b[0;31mTypeError\u001b[0m: complex() takes at most 2 arguments (3 given)"
     ]
    }
   ],
   "source": [
    "print(complex(3,4,34))"
   ]
  },
  {
   "cell_type": "code",
   "execution_count": 76,
   "id": "2cc21843-6bc7-4578-a7a2-09d78893a230",
   "metadata": {},
   "outputs": [
    {
     "data": {
      "text/plain": [
       "(1+0j)"
      ]
     },
     "execution_count": 76,
     "metadata": {},
     "output_type": "execute_result"
    }
   ],
   "source": [
    "complex(True, False)"
   ]
  },
  {
   "cell_type": "code",
   "execution_count": 78,
   "id": "8e574651-fd0a-4c3c-bc07-35020bc81d8a",
   "metadata": {},
   "outputs": [
    {
     "ename": "ValueError",
     "evalue": "complex() arg is a malformed string",
     "output_type": "error",
     "traceback": [
      "\u001b[0;31m---------------------------------------------------------------------------\u001b[0m",
      "\u001b[0;31mValueError\u001b[0m                                Traceback (most recent call last)",
      "Cell \u001b[0;32mIn[78], line 1\u001b[0m\n\u001b[0;32m----> 1\u001b[0m \u001b[38;5;28mcomplex\u001b[39m(\u001b[38;5;124m\"\u001b[39m\u001b[38;5;124mhello\u001b[39m\u001b[38;5;124m\"\u001b[39m)\n",
      "\u001b[0;31mValueError\u001b[0m: complex() arg is a malformed string"
     ]
    }
   ],
   "source": [
    "complex(\"hello\")"
   ]
  },
  {
   "cell_type": "code",
   "execution_count": 80,
   "id": "b81a095e-7288-4b15-af8e-e0fa51cbdde3",
   "metadata": {},
   "outputs": [
    {
     "data": {
      "text/plain": [
       "True"
      ]
     },
     "execution_count": 80,
     "metadata": {},
     "output_type": "execute_result"
    }
   ],
   "source": [
    "bool(1)"
   ]
  },
  {
   "cell_type": "code",
   "execution_count": 82,
   "id": "c452e9c0-285e-4f46-8c6f-9e31bcc1fe3d",
   "metadata": {},
   "outputs": [
    {
     "data": {
      "text/plain": [
       "False"
      ]
     },
     "execution_count": 82,
     "metadata": {},
     "output_type": "execute_result"
    }
   ],
   "source": [
    "bool(0)"
   ]
  },
  {
   "cell_type": "code",
   "execution_count": 84,
   "id": "ca37dc69-4f0e-4e70-a026-41e4bda6ee7e",
   "metadata": {},
   "outputs": [
    {
     "data": {
      "text/plain": [
       "False"
      ]
     },
     "execution_count": 84,
     "metadata": {},
     "output_type": "execute_result"
    }
   ],
   "source": [
    "bool()"
   ]
  },
  {
   "cell_type": "code",
   "execution_count": 86,
   "id": "8a536895-28dd-4953-aae8-5602ec9ce8fd",
   "metadata": {},
   "outputs": [
    {
     "data": {
      "text/plain": [
       "True"
      ]
     },
     "execution_count": 86,
     "metadata": {},
     "output_type": "execute_result"
    }
   ],
   "source": [
    "bool(10+12j)"
   ]
  },
  {
   "cell_type": "code",
   "execution_count": 88,
   "id": "a9f9f962-8c59-418f-b6ad-6a4befc8d912",
   "metadata": {},
   "outputs": [
    {
     "data": {
      "text/plain": [
       "False"
      ]
     },
     "execution_count": 88,
     "metadata": {},
     "output_type": "execute_result"
    }
   ],
   "source": [
    "bool(0+0j)"
   ]
  },
  {
   "cell_type": "code",
   "execution_count": 90,
   "id": "79f0ba22-0d00-4f9f-82af-493c030687f4",
   "metadata": {},
   "outputs": [
    {
     "data": {
      "text/plain": [
       "True"
      ]
     },
     "execution_count": 90,
     "metadata": {},
     "output_type": "execute_result"
    }
   ],
   "source": [
    "bool(\"10\")"
   ]
  },
  {
   "cell_type": "code",
   "execution_count": 92,
   "id": "dcc18d6a-3e17-412a-acfc-dfcae86225df",
   "metadata": {},
   "outputs": [
    {
     "data": {
      "text/plain": [
       "True"
      ]
     },
     "execution_count": 92,
     "metadata": {},
     "output_type": "execute_result"
    }
   ],
   "source": [
    "bool(\"ten\")"
   ]
  },
  {
   "cell_type": "code",
   "execution_count": null,
   "id": "3119a282-cbea-4f42-b2d2-cb489c07d76e",
   "metadata": {},
   "outputs": [],
   "source": []
  }
 ],
 "metadata": {
  "kernelspec": {
   "display_name": "Python [conda env:base] *",
   "language": "python",
   "name": "conda-base-py"
  },
  "language_info": {
   "codemirror_mode": {
    "name": "ipython",
    "version": 3
   },
   "file_extension": ".py",
   "mimetype": "text/x-python",
   "name": "python",
   "nbconvert_exporter": "python",
   "pygments_lexer": "ipython3",
   "version": "3.12.7"
  }
 },
 "nbformat": 4,
 "nbformat_minor": 5
}
