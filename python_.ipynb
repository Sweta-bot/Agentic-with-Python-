{
  "nbformat": 4,
  "nbformat_minor": 0,
  "metadata": {
    "colab": {
      "provenance": [],
      "authorship_tag": "ABX9TyMOj6QLVKJ+36TBZvQHE7ib",
      "include_colab_link": true
    },
    "kernelspec": {
      "name": "python3",
      "display_name": "Python 3"
    },
    "language_info": {
      "name": "python"
    }
  },
  "cells": [
    {
      "cell_type": "markdown",
      "metadata": {
        "id": "view-in-github",
        "colab_type": "text"
      },
      "source": [
        "<a href=\"https://colab.research.google.com/github/Sweta-bot/Agentic-with-Python-/blob/main/python_.ipynb\" target=\"_parent\"><img src=\"https://colab.research.google.com/assets/colab-badge.svg\" alt=\"Open In Colab\"/></a>"
      ]
    },
    {
      "cell_type": "markdown",
      "source": [
        "**String in python**:"
      ],
      "metadata": {
        "id": "NezRTjiNZkKo"
      }
    },
    {
      "cell_type": "code",
      "source": [
        "#single line comment\n",
        "letter =\"p\"                #a stirng could be single line character\n",
        "print(letter)              #p\n",
        "print(len(letter))         #1\n",
        "greeting='hello , world'   #String could be a single or double quote\n",
        "print(greeting)            #hello , world\n",
        "print(len(greeting))       #13\n",
        "sentence = \"i hope string r clear till now \"\n",
        "print( sentenace )"
      ],
      "metadata": {
        "colab": {
          "base_uri": "https://localhost:8080/"
        },
        "id": "28tvV9lbZxDS",
        "outputId": "44a83812-71c9-4da1-c607-9bbe84c7f44f"
      },
      "execution_count": 2,
      "outputs": [
        {
          "output_type": "stream",
          "name": "stdout",
          "text": [
            "p\n",
            "1\n",
            "hello , world\n",
            "13\n",
            "i hope string r clear till now \n"
          ]
        }
      ]
    },
    {
      "cell_type": "markdown",
      "source": [
        "**Multi line Sting**\n"
      ],
      "metadata": {
        "id": "epxc-KmnbRSb"
      }
    },
    {
      "cell_type": "code",
      "source": [
        "multiline_string = '''hey am a student i love to do coding though its very hard to  do but i will not give up '''\n",
        "print(multiline_string)\n",
        "another_way = \"\"\" this is a another way to define a multi line string \"\"\"\n",
        "print(another_way)"
      ],
      "metadata": {
        "colab": {
          "base_uri": "https://localhost:8080/"
        },
        "id": "j-evxYkgbYc0",
        "outputId": "d81be8b0-29b3-4bd8-ccc5-4564b969d127"
      },
      "execution_count": 3,
      "outputs": [
        {
          "output_type": "stream",
          "name": "stdout",
          "text": [
            "hey am a student i love to do coding though its very hard to  do but i will not give up \n",
            " this is a another way to define a multi line string \n"
          ]
        }
      ]
    },
    {
      "cell_type": "markdown",
      "source": [
        "**string concatenation**"
      ],
      "metadata": {
        "id": "Q9IJ-289cXJx"
      }
    },
    {
      "cell_type": "code",
      "source": [
        "first_name= \"shamu\"\n",
        "last_name= \"shymali\"\n",
        "space=\"   \"\n",
        "name= first_name + space + last_name\n",
        "print(name)\n",
        "print(len(name)) #check the length of the string"
      ],
      "metadata": {
        "colab": {
          "base_uri": "https://localhost:8080/"
        },
        "id": "ZRLkGko4ce9p",
        "outputId": "cac3d70e-3feb-43fa-9af6-589bf7c6c871"
      },
      "execution_count": 6,
      "outputs": [
        {
          "output_type": "stream",
          "name": "stdout",
          "text": [
            "shamu   shymali\n",
            "15\n"
          ]
        }
      ]
    }
  ]
}